{
 "cells": [
  {
   "cell_type": "markdown",
   "id": "4c31a24c-7a02-40ab-b1c0-07f2319eadbf",
   "metadata": {},
   "source": [
    "# Basic Linear Algebra in Julia\n",
    "\n",
    "Author: Andreas Noack Jensen (MIT) (http://www.econ.ku.dk/phdstudent/noack/) (with edits from Jane Herriman)"
   ]
  },
  {
   "cell_type": "code",
   "execution_count": 1,
   "id": "96456627-f38e-4896-b0e9-36c373efbce3",
   "metadata": {
    "tags": []
   },
   "outputs": [
    {
     "data": {
      "text/plain": [
       "3×3 Matrix{Int64}:\n",
       " 4  4  3\n",
       " 3  3  4\n",
       " 4  3  4"
      ]
     },
     "execution_count": 1,
     "metadata": {},
     "output_type": "execute_result"
    }
   ],
   "source": [
    "A = rand(1:4, 3, 3)"
   ]
  },
  {
   "cell_type": "code",
   "execution_count": 2,
   "id": "0bd0214f-b895-4ef0-b628-20e11a7e7a00",
   "metadata": {
    "tags": []
   },
   "outputs": [
    {
     "data": {
      "text/plain": [
       "3×6 Matrix{Int64}:\n",
       " 4  4  3  4  4  3\n",
       " 3  3  4  3  3  4\n",
       " 4  3  4  4  3  4"
      ]
     },
     "execution_count": 2,
     "metadata": {},
     "output_type": "execute_result"
    }
   ],
   "source": [
    "B = A\n",
    "C = copy(A)\n",
    "[B C]"
   ]
  },
  {
   "cell_type": "code",
   "execution_count": 4,
   "id": "f7d23cc4-d6c9-4afe-ab70-7a8ec8e0837b",
   "metadata": {
    "tags": []
   },
   "outputs": [
    {
     "data": {
      "text/plain": [
       "3×6 Matrix{Int64}:\n",
       " 17  4  3  4  4  3\n",
       "  3  3  4  3  3  4\n",
       "  4  3  4  4  3  4"
      ]
     },
     "execution_count": 4,
     "metadata": {},
     "output_type": "execute_result"
    }
   ],
   "source": [
    "# Watch out!\n",
    "A[1] = 17\n",
    "[B C] # B and A are references to the same memory "
   ]
  },
  {
   "cell_type": "markdown",
   "id": "47ac735e-7544-45cd-bca0-e5f50bf6ccd5",
   "metadata": {},
   "source": [
    "---"
   ]
  },
  {
   "cell_type": "code",
   "execution_count": 5,
   "id": "cce68645-6252-4de9-9ab4-3225d8d3c135",
   "metadata": {
    "tags": []
   },
   "outputs": [
    {
     "data": {
      "text/plain": [
       "3-element Vector{Float64}:\n",
       " 1.0\n",
       " 1.0\n",
       " 1.0"
      ]
     },
     "execution_count": 5,
     "metadata": {},
     "output_type": "execute_result"
    }
   ],
   "source": [
    "x = ones(3)"
   ]
  },
  {
   "cell_type": "markdown",
   "id": "0ba2d4dc-f7c4-439f-941c-310695640178",
   "metadata": {},
   "source": [
    "### Multiplication"
   ]
  },
  {
   "cell_type": "code",
   "execution_count": 6,
   "id": "8adedcb2-b74c-459b-9069-0d9c124f3eb6",
   "metadata": {
    "tags": []
   },
   "outputs": [
    {
     "data": {
      "text/plain": [
       "3-element Vector{Float64}:\n",
       " 24.0\n",
       " 10.0\n",
       " 11.0"
      ]
     },
     "execution_count": 6,
     "metadata": {},
     "output_type": "execute_result"
    }
   ],
   "source": [
    "b = A*x"
   ]
  },
  {
   "cell_type": "markdown",
   "id": "5adb6e66-7102-4068-88fc-12d092d92b7c",
   "metadata": {},
   "source": [
    "### Transposition"
   ]
  },
  {
   "cell_type": "code",
   "execution_count": 7,
   "id": "4cabdaab-0c33-4f1c-a52c-a7c480b7bbb9",
   "metadata": {
    "tags": []
   },
   "outputs": [
    {
     "data": {
      "text/plain": [
       "3×3 Matrix{Int64}:\n",
       " 34  7  7\n",
       "  7  6  7\n",
       "  7  7  8"
      ]
     },
     "execution_count": 7,
     "metadata": {},
     "output_type": "execute_result"
    }
   ],
   "source": [
    "Asym = A + A'"
   ]
  },
  {
   "cell_type": "markdown",
   "id": "3496ac4b-e512-4045-8765-ec6a3b2134f6",
   "metadata": {},
   "source": [
    "### Transposed multiplication"
   ]
  },
  {
   "cell_type": "code",
   "execution_count": 8,
   "id": "72624409-3bae-4686-8a1e-2b1eadd47123",
   "metadata": {
    "tags": []
   },
   "outputs": [
    {
     "data": {
      "text/plain": [
       "3×3 Matrix{Int64}:\n",
       " 314  89  79\n",
       "  89  34  36\n",
       "  79  36  41"
      ]
     },
     "execution_count": 8,
     "metadata": {},
     "output_type": "execute_result"
    }
   ],
   "source": [
    "Apd = A'A"
   ]
  },
  {
   "cell_type": "markdown",
   "id": "ba02d0ff-33f2-4206-9472-cb13d3934054",
   "metadata": {},
   "source": [
    "#### Solving linear systems"
   ]
  },
  {
   "cell_type": "markdown",
   "id": "af90e807-aaf2-4c73-b6d3-ef6721406329",
   "metadata": {},
   "source": [
    "The problem $Ax = b$ for square $A$ is solved by the `\\` function"
   ]
  },
  {
   "cell_type": "code",
   "execution_count": 9,
   "id": "fbfbb971-04eb-482d-9382-21b94e4eef1c",
   "metadata": {
    "tags": []
   },
   "outputs": [
    {
     "data": {
      "text/plain": [
       "3-element Vector{Float64}:\n",
       " 1.0\n",
       " 1.0000000000000004\n",
       " 1.0"
      ]
     },
     "execution_count": 9,
     "metadata": {},
     "output_type": "execute_result"
    }
   ],
   "source": [
    "A\\b"
   ]
  },
  {
   "cell_type": "markdown",
   "id": "c46b3c28-3b4b-4349-9c48-cfb55013da7a",
   "metadata": {},
   "source": [
    "#### Overdetermined systems\n",
    "When A is tall the \\ function calculates the least squares solution."
   ]
  },
  {
   "cell_type": "code",
   "execution_count": 11,
   "id": "cd12d0d1-0a2a-4fb7-9417-11dd18817de9",
   "metadata": {
    "tags": []
   },
   "outputs": [
    {
     "data": {
      "text/plain": [
       "3×2 Matrix{Int64}:\n",
       " 17  4\n",
       "  3  3\n",
       "  4  3"
      ]
     },
     "metadata": {},
     "output_type": "display_data"
    },
    {
     "data": {
      "text/plain": [
       "2-element Vector{Float64}:\n",
       " 0.8119782214156079\n",
       " 2.550998185117967"
      ]
     },
     "execution_count": 11,
     "metadata": {},
     "output_type": "execute_result"
    }
   ],
   "source": [
    "# Keep all rows and only the first 2 columns of `A`\n",
    "Atall = A[:, 1:2]\n",
    "display(Atall)\n",
    "Atall\\b"
   ]
  },
  {
   "cell_type": "markdown",
   "id": "9f31edd6-ef4b-42b5-ad12-cf06c2226ed8",
   "metadata": {},
   "source": [
    "The \\ function also works for rank deficient least squares problems. In this case, the least squares solution is not unique and Julia returns the solution with smallest norm."
   ]
  },
  {
   "cell_type": "code",
   "execution_count": 12,
   "id": "fb4d501c-95b1-48e5-9c2b-3c148adaab10",
   "metadata": {
    "tags": []
   },
   "outputs": [
    {
     "data": {
      "text/plain": [
       "3×3 Matrix{Float64}:\n",
       " 0.804609  0.394465  0.811\n",
       " 0.597432  0.190244  0.313571\n",
       " 0.123782  0.920277  0.865329"
      ]
     },
     "execution_count": 12,
     "metadata": {},
     "output_type": "execute_result"
    }
   ],
   "source": [
    "A = rand(3, 3)"
   ]
  },
  {
   "cell_type": "code",
   "execution_count": 14,
   "id": "77fcbb9e-3ef6-4535-835f-52e5f95da281",
   "metadata": {
    "tags": []
   },
   "outputs": [
    {
     "data": {
      "text/plain": [
       "2-element Vector{Float64}:\n",
       " 13.066599313007636\n",
       " 13.066599313007641"
      ]
     },
     "execution_count": 14,
     "metadata": {},
     "output_type": "execute_result"
    }
   ],
   "source": [
    "[A[:, 1] A[:, 1]] \\ b"
   ]
  },
  {
   "cell_type": "markdown",
   "id": "87100171-5d29-41ae-b3a6-6834b4666599",
   "metadata": {},
   "source": [
    "### Underdetermined systems\n",
    "When A is short the \\ function returns the minimum norm solution"
   ]
  },
  {
   "cell_type": "code",
   "execution_count": 15,
   "id": "ee19ea45-c41e-444b-b1eb-a707c434521b",
   "metadata": {
    "tags": []
   },
   "outputs": [
    {
     "data": {
      "text/plain": [
       "2×3 Matrix{Float64}:\n",
       " 0.804609  0.394465  0.811\n",
       " 0.597432  0.190244  0.313571"
      ]
     },
     "metadata": {},
     "output_type": "display_data"
    },
    {
     "data": {
      "text/plain": [
       "3-element Vector{Float64}:\n",
       "  1.3678852343140524\n",
       "  8.715407773714078\n",
       " 23.99688510304585"
      ]
     },
     "execution_count": 15,
     "metadata": {},
     "output_type": "execute_result"
    }
   ],
   "source": [
    "Ashort = A[1:2, :]\n",
    "display(Ashort)\n",
    "Ashort \\ b[1:2]"
   ]
  },
  {
   "cell_type": "code",
   "execution_count": null,
   "id": "386e052d-3a29-4bee-b17b-cfc3544b7007",
   "metadata": {},
   "outputs": [],
   "source": []
  }
 ],
 "metadata": {
  "kernelspec": {
   "display_name": "Julia 1.8.5",
   "language": "julia",
   "name": "julia-1.8"
  },
  "language_info": {
   "file_extension": ".jl",
   "mimetype": "application/julia",
   "name": "julia",
   "version": "1.8.5"
  }
 },
 "nbformat": 4,
 "nbformat_minor": 5
}
