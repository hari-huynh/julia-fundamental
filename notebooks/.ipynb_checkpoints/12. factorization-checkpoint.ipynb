{
 "cells": [
  {
   "cell_type": "markdown",
   "id": "13534055-b41d-4cb2-b6b8-9c8afcafd346",
   "metadata": {},
   "source": [
    "# Factorization and other fun"
   ]
  },
  {
   "cell_type": "markdown",
   "id": "969771f8-3eca-49d3-8659-7cc621c3156f",
   "metadata": {},
   "source": [
    "## Outline\n",
    "- Factorization (Julia Innovation: Matrix Factorization Objects)\n",
    "- Special Matrix Structures (Matrices know if they are triangular, tridiagonal, etc.)\n",
    "- Generic linear algebra (Increasingly important and totally outside the scope of LAPACK)"
   ]
  },
  {
   "cell_type": "markdown",
   "id": "843b107a-5a73-4b93-9428-242cd980774c",
   "metadata": {},
   "source": [
    "### Factorization"
   ]
  },
  {
   "cell_type": "code",
   "execution_count": 3,
   "id": "8cd32b40-28b9-43d3-8f0c-c616778102b9",
   "metadata": {
    "tags": []
   },
   "outputs": [],
   "source": [
    "using LinearAlgebra"
   ]
  },
  {
   "cell_type": "code",
   "execution_count": 28,
   "id": "5c435e7f-a837-4358-868f-762ed80fb5b3",
   "metadata": {
    "tags": []
   },
   "outputs": [
    {
     "data": {
      "text/plain": [
       "3×3 Matrix{Float64}:\n",
       " 0.00925658  0.783341  0.462139\n",
       " 0.777808    0.592416  0.642216\n",
       " 0.476511    0.523185  0.254415"
      ]
     },
     "execution_count": 28,
     "metadata": {},
     "output_type": "execute_result"
    }
   ],
   "source": [
    "A = rand(3, 3)"
   ]
  },
  {
   "cell_type": "code",
   "execution_count": 4,
   "id": "470d5450-cae0-48cc-868a-8f4d3622c053",
   "metadata": {
    "tags": []
   },
   "outputs": [
    {
     "data": {
      "text/plain": [
       "LU{Float64, Matrix{Float64}, Vector{Int64}}\n",
       "L factor:\n",
       "3×3 Matrix{Float64}:\n",
       " 1.0       0.0       0.0\n",
       " 0.525382  1.0       0.0\n",
       " 0.564377  0.927449  1.0\n",
       "U factor:\n",
       "3×3 Matrix{Float64}:\n",
       " 0.497784  0.597489  0.739712\n",
       " 0.0       0.557798  0.27851\n",
       " 0.0       0.0       0.105497"
      ]
     },
     "execution_count": 4,
     "metadata": {},
     "output_type": "execute_result"
    }
   ],
   "source": [
    "l, u, p = lu(A)"
   ]
  },
  {
   "cell_type": "code",
   "execution_count": 6,
   "id": "edfef45c-a891-4768-88c5-c0f11121e55b",
   "metadata": {
    "tags": []
   },
   "outputs": [
    {
     "data": {
      "text/plain": [
       "0.47921646868415846"
      ]
     },
     "metadata": {},
     "output_type": "display_data"
    },
    {
     "data": {
      "text/plain": [
       "0.0"
      ]
     },
     "metadata": {},
     "output_type": "display_data"
    }
   ],
   "source": [
    "# Pivoting is on by default so we can't assume A == LU\n",
    "display(norm(l*u - A))\n",
    "display(norm(l*u - A[p, :]))"
   ]
  },
  {
   "cell_type": "code",
   "execution_count": 11,
   "id": "d8c0f529-8d0b-4946-955e-28e21382cd87",
   "metadata": {
    "tags": []
   },
   "outputs": [
    {
     "data": {
      "text/plain": [
       "2.220446049250313e-16"
      ]
     },
     "execution_count": 11,
     "metadata": {},
     "output_type": "execute_result"
    }
   ],
   "source": [
    "# To turn off pivoting for LU factorizations, use the argument `pivot = NoPivot()`\n",
    "l, u, p = lu(A, NoPivot())\n",
    "norm(l*u - A)"
   ]
  },
  {
   "cell_type": "markdown",
   "id": "971bf45b-59ec-4b02-9715-5723bbdefb53",
   "metadata": {},
   "source": [
    "---\n",
    "We can therefore compute the solution of $Ax = b$ from the factorization"
   ]
  },
  {
   "cell_type": "code",
   "execution_count": 41,
   "id": "770b6aa1-651e-4c7e-912a-7399705f1908",
   "metadata": {
    "tags": []
   },
   "outputs": [
    {
     "data": {
      "text/plain": [
       "3-element Vector{Float64}:\n",
       " 1.2547360967991692\n",
       " 2.012439638809968\n",
       " 1.254110192253611"
      ]
     },
     "execution_count": 41,
     "metadata": {},
     "output_type": "execute_result"
    }
   ],
   "source": [
    "# First, what is b given our solution, x\n",
    "x = ones(3)\n",
    "b = A*x"
   ]
  },
  {
   "cell_type": "code",
   "execution_count": 48,
   "id": "afd171bb-a51a-4dda-8adc-1cfebc18d90d",
   "metadata": {
    "tags": []
   },
   "outputs": [
    {
     "data": {
      "text/plain": [
       "3-element Vector{Float64}:\n",
       " 1.0000000000000002\n",
       " 1.0000000000000002\n",
       " 0.9999999999999996"
      ]
     },
     "execution_count": 48,
     "metadata": {},
     "output_type": "execute_result"
    }
   ],
   "source": [
    "# Now, prove that you can solve for x\n",
    "\n",
    "# PA = LU\n",
    "# A = P'LU\n",
    "# P'LUx = b\n",
    "# LUx = Pb\n",
    "# Ux = L\\Pb\n",
    "# x = U\\L\\Pb\n",
    "Alu = lu(A)\n",
    "Alu.U \\ (Alu.L \\ (Alu.P * b))"
   ]
  },
  {
   "cell_type": "code",
   "execution_count": 43,
   "id": "569afc98-81df-4c73-9b46-c30c5a5b44ab",
   "metadata": {
    "tags": []
   },
   "outputs": [
    {
     "data": {
      "text/plain": [
       "3-element Vector{Float64}:\n",
       " 1.0000000000000002\n",
       " 1.0000000000000002\n",
       " 0.9999999999999996"
      ]
     },
     "execution_count": 43,
     "metadata": {},
     "output_type": "execute_result"
    }
   ],
   "source": [
    "lu(A) \\ b"
   ]
  },
  {
   "cell_type": "code",
   "execution_count": 49,
   "id": "d56817c7-01ac-41c9-9136-c26c966bfdf0",
   "metadata": {
    "tags": []
   },
   "outputs": [
    {
     "data": {
      "text/plain": [
       "0.14059606918553139"
      ]
     },
     "execution_count": 49,
     "metadata": {},
     "output_type": "execute_result"
    }
   ],
   "source": [
    "det(A)"
   ]
  },
  {
   "cell_type": "code",
   "execution_count": 50,
   "id": "5077ad1c-0332-406e-913b-6a34659c092e",
   "metadata": {
    "tags": []
   },
   "outputs": [
    {
     "data": {
      "text/plain": [
       "0.14059606918553139"
      ]
     },
     "execution_count": 50,
     "metadata": {},
     "output_type": "execute_result"
    }
   ],
   "source": [
    "det(Alu)"
   ]
  },
  {
   "cell_type": "markdown",
   "id": "31ece0c8-7eee-4768-9e91-05e8483c834e",
   "metadata": {},
   "source": [
    "### QR"
   ]
  },
  {
   "cell_type": "code",
   "execution_count": 89,
   "id": "c22dd570-ac72-4910-b09a-b4dc0b6c9682",
   "metadata": {
    "tags": []
   },
   "outputs": [
    {
     "data": {
      "text/plain": [
       "LinearAlgebra.QRCompactWY{Float64, Matrix{Float64}, Matrix{Float64}}\n",
       "Q factor:\n",
       "3×3 LinearAlgebra.QRCompactWYQ{Float64, Matrix{Float64}, Matrix{Float64}}:\n",
       " -0.0101474   0.984774   -0.173544\n",
       " -0.85266    -0.0991845  -0.512965\n",
       " -0.522368    0.142769    0.840684\n",
       "R factor:\n",
       "2×2 Matrix{Float64}:\n",
       " -0.912213  -0.786373\n",
       "  0.0        0.78735"
      ]
     },
     "execution_count": 89,
     "metadata": {},
     "output_type": "execute_result"
    }
   ],
   "source": [
    "Aqr = qr(A[:, 1:2])"
   ]
  },
  {
   "cell_type": "code",
   "execution_count": 90,
   "id": "cdf301d3-edc9-4405-84a4-ed906265b0e2",
   "metadata": {
    "tags": []
   },
   "outputs": [
    {
     "data": {
      "text/plain": [
       "3×3 LinearAlgebra.QRCompactWYQ{Float64, Matrix{Float64}, Matrix{Float64}}:\n",
       " -0.0101474   0.984774   -0.173544\n",
       " -0.85266    -0.0991845  -0.512965\n",
       " -0.522368    0.142769    0.840684"
      ]
     },
     "execution_count": 90,
     "metadata": {},
     "output_type": "execute_result"
    }
   ],
   "source": [
    "Aqr.Q"
   ]
  },
  {
   "cell_type": "code",
   "execution_count": 91,
   "id": "3e571252-e473-44cd-a79f-2de94f499878",
   "metadata": {
    "tags": []
   },
   "outputs": [
    {
     "data": {
      "text/plain": [
       "2×2 Matrix{Float64}:\n",
       " -0.912213  -0.786373\n",
       "  0.0        0.78735"
      ]
     },
     "execution_count": 91,
     "metadata": {},
     "output_type": "execute_result"
    }
   ],
   "source": [
    "Aqr.R"
   ]
  },
  {
   "cell_type": "code",
   "execution_count": 92,
   "id": "940f5d7f-ea75-4623-93d9-d5df4244c1e4",
   "metadata": {
    "tags": []
   },
   "outputs": [
    {
     "data": {
      "text/plain": [
       "3-element Vector{Float64}:\n",
       "  0.97462643634627\n",
       " -0.9518446088567252\n",
       " -0.37959866986774127"
      ]
     },
     "execution_count": 92,
     "metadata": {},
     "output_type": "execute_result"
    }
   ],
   "source": [
    "Aqr.Q * ones(2)"
   ]
  },
  {
   "cell_type": "code",
   "execution_count": 93,
   "id": "73b43b98-6f77-44ff-a445-95c9e0852354",
   "metadata": {
    "tags": []
   },
   "outputs": [
    {
     "data": {
      "text/plain": [
       "3-element Vector{Float64}:\n",
       "  0.8010823485825282\n",
       " -1.4648097460757543\n",
       "  0.46108510992113605"
      ]
     },
     "execution_count": 93,
     "metadata": {},
     "output_type": "execute_result"
    }
   ],
   "source": [
    "Aqr.Q * ones(3)"
   ]
  },
  {
   "cell_type": "code",
   "execution_count": 94,
   "id": "7295ae4e-ddd8-4910-aad6-8fa66767c7d4",
   "metadata": {
    "tags": []
   },
   "outputs": [
    {
     "ename": "LoadError",
     "evalue": "DimensionMismatch: vector must have length either 3 or 2",
     "output_type": "error",
     "traceback": [
      "DimensionMismatch: vector must have length either 3 or 2",
      "",
      "Stacktrace:",
      " [1] *(A::LinearAlgebra.QRCompactWYQ{Float64, Matrix{Float64}, Matrix{Float64}}, b::Vector{Float64})",
      "   @ LinearAlgebra C:\\Users\\PC\\AppData\\Local\\Programs\\Julia-1.8.5\\share\\julia\\stdlib\\v1.8\\LinearAlgebra\\src\\qr.jl:663",
      " [2] top-level scope",
      "   @ In[94]:1"
     ]
    }
   ],
   "source": [
    "Aqr.Q * ones(4)"
   ]
  },
  {
   "cell_type": "code",
   "execution_count": 95,
   "id": "fa8c12f6-5030-4429-8a8d-8403177a26e1",
   "metadata": {
    "tags": []
   },
   "outputs": [
    {
     "data": {
      "text/plain": [
       "-0.010147385487967231"
      ]
     },
     "execution_count": 95,
     "metadata": {},
     "output_type": "execute_result"
    }
   ],
   "source": [
    "Aqr.Q[1]"
   ]
  },
  {
   "cell_type": "code",
   "execution_count": 96,
   "id": "3e6a602a-4d49-4508-b4c7-4c840b8d782d",
   "metadata": {
    "tags": []
   },
   "outputs": [
    {
     "data": {
      "text/plain": [
       "2-element Vector{Float64}:\n",
       " 1.2828103103412862\n",
       " 1.5432487771578072"
      ]
     },
     "execution_count": 96,
     "metadata": {},
     "output_type": "execute_result"
    }
   ],
   "source": [
    "Aqr\\b"
   ]
  },
  {
   "cell_type": "code",
   "execution_count": 100,
   "id": "5553e74a-e3ef-4425-97dd-750ca2c9370b",
   "metadata": {
    "tags": []
   },
   "outputs": [
    {
     "data": {
      "text/plain": [
       "LinearAlgebra.QRCompactWY{Float64, Matrix{Float64}, Matrix{Float64}}\n",
       "Q factor:\n",
       "3×3 LinearAlgebra.QRCompactWYQ{Float64, Matrix{Float64}, Matrix{Float64}}:\n",
       " -0.0101474  -0.85266   -0.522368\n",
       " -0.85266     0.280274  -0.440928\n",
       " -0.522368   -0.440928   0.729873\n",
       "R factor:\n",
       "2×2 Matrix{Float64}:\n",
       " -0.912213  -0.912213\n",
       "  0.0        0.0"
      ]
     },
     "execution_count": 100,
     "metadata": {},
     "output_type": "execute_result"
    }
   ],
   "source": [
    "Aqrp = qr([A[:, 1] A[:, 1]], NoPivot())"
   ]
  },
  {
   "cell_type": "code",
   "execution_count": 101,
   "id": "4c53310a-c024-438c-9a31-bf164efa8977",
   "metadata": {
    "tags": []
   },
   "outputs": [
    {
     "ename": "LoadError",
     "evalue": "LAPACKException(2)",
     "output_type": "error",
     "traceback": [
      "LAPACKException(2)",
      "",
      "Stacktrace:",
      " [1] chklapackerror",
      "   @ C:\\Users\\PC\\AppData\\Local\\Programs\\Julia-1.8.5\\share\\julia\\stdlib\\v1.8\\LinearAlgebra\\src\\lapack.jl:41 [inlined]",
      " [2] trtrs!(uplo::Char, trans::Char, diag::Char, A::SubArray{Float64, 2, Matrix{Float64}, Tuple{UnitRange{Int64}, UnitRange{Int64}}, false}, B::SubArray{Float64, 1, Vector{Float64}, Tuple{UnitRange{Int64}}, true})",
      "   @ LinearAlgebra.LAPACK C:\\Users\\PC\\AppData\\Local\\Programs\\Julia-1.8.5\\share\\julia\\stdlib\\v1.8\\LinearAlgebra\\src\\lapack.jl:3421",
      " [3] ldiv!",
      "   @ C:\\Users\\PC\\AppData\\Local\\Programs\\Julia-1.8.5\\share\\julia\\stdlib\\v1.8\\LinearAlgebra\\src\\triangular.jl:729 [inlined]",
      " [4] ldiv!(A::LinearAlgebra.QRCompactWY{Float64, Matrix{Float64}, Matrix{Float64}}, b::Vector{Float64})",
      "   @ LinearAlgebra C:\\Users\\PC\\AppData\\Local\\Programs\\Julia-1.8.5\\share\\julia\\stdlib\\v1.8\\LinearAlgebra\\src\\qr.jl:873",
      " [5] \\(F::LinearAlgebra.QRCompactWY{Float64, Matrix{Float64}, Matrix{Float64}}, B::Vector{Float64})",
      "   @ LinearAlgebra C:\\Users\\PC\\AppData\\Local\\Programs\\Julia-1.8.5\\share\\julia\\stdlib\\v1.8\\LinearAlgebra\\src\\LinearAlgebra.jl:489",
      " [6] top-level scope",
      "   @ In[101]:1"
     ]
    }
   ],
   "source": [
    "Aqrp \\ b"
   ]
  },
  {
   "cell_type": "markdown",
   "id": "1ada19b7-b260-48ac-bfa5-0e49aa318e36",
   "metadata": {},
   "source": [
    "### Eigendecompositions and the SVD(s)"
   ]
  },
  {
   "cell_type": "code",
   "execution_count": 104,
   "id": "1e42ebc5-e5b2-4eb3-99a6-4ae6950f1c27",
   "metadata": {
    "tags": []
   },
   "outputs": [
    {
     "data": {
      "text/plain": [
       "Eigen{Float64, Float64, Matrix{Float64}, Vector{Float64}}\n",
       "values:\n",
       "3-element Vector{Float64}:\n",
       " -1.0772220120926415\n",
       " -0.3323101173485553\n",
       "  3.121706620874551\n",
       "vectors:\n",
       "3×3 Matrix{Float64}:\n",
       "  0.844286  -0.178555  -0.505272\n",
       " -0.52339   -0.477225  -0.705917\n",
       " -0.115084   0.86045   -0.496368"
      ]
     },
     "execution_count": 104,
     "metadata": {},
     "output_type": "execute_result"
    }
   ],
   "source": [
    "Asym = A + A'\n",
    "AsymEig = eigen(Asym)"
   ]
  },
  {
   "cell_type": "code",
   "execution_count": 105,
   "id": "5a1c738e-fdb7-4c9f-a87a-3108c9028cfb",
   "metadata": {
    "tags": []
   },
   "outputs": [
    {
     "data": {
      "text/plain": [
       "3-element Vector{Float64}:\n",
       " -1.0772220120926415\n",
       " -0.3323101173485553\n",
       "  3.121706620874551"
      ]
     },
     "execution_count": 105,
     "metadata": {},
     "output_type": "execute_result"
    }
   ],
   "source": [
    "AsymEig.values"
   ]
  },
  {
   "cell_type": "code",
   "execution_count": 106,
   "id": "daeceb5a-dad6-4fa2-b614-e4cc40de93c3",
   "metadata": {
    "tags": []
   },
   "outputs": [
    {
     "data": {
      "text/plain": [
       "3×3 Matrix{Float64}:\n",
       "  0.844286  -0.178555  -0.505272\n",
       " -0.52339   -0.477225  -0.705917\n",
       " -0.115084   0.86045   -0.496368"
      ]
     },
     "execution_count": 106,
     "metadata": {},
     "output_type": "execute_result"
    }
   ],
   "source": [
    "AsymEig.vectors"
   ]
  },
  {
   "cell_type": "code",
   "execution_count": 107,
   "id": "62606a0d-3135-4d26-85de-ef70a0625211",
   "metadata": {
    "tags": []
   },
   "outputs": [
    {
     "data": {
      "text/plain": [
       "3×3 Matrix{Float64}:\n",
       "  1.0           8.88178e-16  9.99201e-16\n",
       "  2.22045e-15   1.0          2.88658e-15\n",
       " -2.66454e-15  -2.22045e-15  1.0"
      ]
     },
     "execution_count": 107,
     "metadata": {},
     "output_type": "execute_result"
    }
   ],
   "source": [
    "inv(AsymEig) * Asym"
   ]
  },
  {
   "cell_type": "code",
   "execution_count": 109,
   "id": "f8da00d1-5c93-4b2d-9d3e-9ef87a5e5709",
   "metadata": {
    "tags": []
   },
   "outputs": [
    {
     "data": {
      "text/plain": [
       "SVD{Float64, Float64, Matrix{Float64}, Vector{Float64}}\n",
       "U factor:\n",
       "3×2 Matrix{Float64}:\n",
       " -0.4724     0.86413\n",
       " -0.705659  -0.488787\n",
       " -0.528095  -0.119862\n",
       "singular values:\n",
       "2-element Vector{Float64}:\n",
       " 1.3344476405324597\n",
       " 0.5382233390053571\n",
       "Vt factor:\n",
       "2×2 Matrix{Float64}:\n",
       " -0.603158  -0.797622\n",
       " -0.797622   0.603158"
      ]
     },
     "execution_count": 109,
     "metadata": {},
     "output_type": "execute_result"
    }
   ],
   "source": [
    "Asvd = svd(A[:, 1:2])"
   ]
  },
  {
   "cell_type": "markdown",
   "id": "510614f6-62b6-489e-885b-e2a85d9c9310",
   "metadata": {},
   "source": [
    "### Special Matrix Structures"
   ]
  },
  {
   "cell_type": "code",
   "execution_count": 110,
   "id": "34e50d2a-097d-4d36-a2d0-f3ced72e562d",
   "metadata": {
    "tags": []
   },
   "outputs": [
    {
     "data": {
      "text/plain": [
       "3×3 Matrix{Float64}:\n",
       " 0.00925658  0.783341  0.462139\n",
       " 0.777808    0.592416  0.642216\n",
       " 0.476511    0.523185  0.254415"
      ]
     },
     "execution_count": 110,
     "metadata": {},
     "output_type": "execute_result"
    }
   ],
   "source": [
    "A"
   ]
  },
  {
   "cell_type": "code",
   "execution_count": 111,
   "id": "221cb764-d5b3-4f39-9515-46baf33bed62",
   "metadata": {
    "tags": []
   },
   "outputs": [
    {
     "data": {
      "text/plain": [
       "3×3 Diagonal{Float64, Vector{Float64}}:\n",
       " 0.00925658   ⋅         ⋅ \n",
       "  ⋅          0.592416   ⋅ \n",
       "  ⋅           ⋅        0.254415"
      ]
     },
     "execution_count": 111,
     "metadata": {},
     "output_type": "execute_result"
    }
   ],
   "source": [
    "Diagonal(A)"
   ]
  },
  {
   "cell_type": "code",
   "execution_count": 112,
   "id": "1c673b24-82c8-488e-918c-23a342016386",
   "metadata": {
    "tags": []
   },
   "outputs": [
    {
     "data": {
      "text/plain": [
       "3×3 Diagonal{Float64, Vector{Float64}}:\n",
       " 0.00925658   ⋅         ⋅ \n",
       "  ⋅          0.592416   ⋅ \n",
       "  ⋅           ⋅        0.254415"
      ]
     },
     "execution_count": 112,
     "metadata": {},
     "output_type": "execute_result"
    }
   ],
   "source": [
    "Diagonal(diag(A))"
   ]
  },
  {
   "cell_type": "code",
   "execution_count": 113,
   "id": "77facf14-3b68-475a-bb8c-75a02b9fedd0",
   "metadata": {
    "tags": []
   },
   "outputs": [
    {
     "data": {
      "text/plain": [
       "3×3 LowerTriangular{Float64, Matrix{Float64}}:\n",
       " 0.00925658   ⋅         ⋅ \n",
       " 0.777808    0.592416   ⋅ \n",
       " 0.476511    0.523185  0.254415"
      ]
     },
     "execution_count": 113,
     "metadata": {},
     "output_type": "execute_result"
    }
   ],
   "source": [
    "LowerTriangular(A)"
   ]
  },
  {
   "cell_type": "code",
   "execution_count": 114,
   "id": "8e1d503b-e1f4-4a05-8de6-335ce33a26f5",
   "metadata": {
    "tags": []
   },
   "outputs": [
    {
     "data": {
      "text/plain": [
       "3×3 Symmetric{Float64, Matrix{Float64}}:\n",
       " 0.0185132  1.56115  0.938649\n",
       " 1.56115    1.18483  1.1654\n",
       " 0.938649   1.1654   0.50883"
      ]
     },
     "execution_count": 114,
     "metadata": {},
     "output_type": "execute_result"
    }
   ],
   "source": [
    "Symmetric(Asym)"
   ]
  },
  {
   "cell_type": "code",
   "execution_count": 115,
   "id": "ecd114dc-7a24-4c2a-8d73-70ee7b9d85a2",
   "metadata": {
    "tags": []
   },
   "outputs": [
    {
     "data": {
      "text/plain": [
       "3×3 SymTridiagonal{Float64, Vector{Float64}}:\n",
       " 0.0185132  1.56115   ⋅ \n",
       " 1.56115    1.18483  1.1654\n",
       "  ⋅         1.1654   0.50883"
      ]
     },
     "execution_count": 115,
     "metadata": {},
     "output_type": "execute_result"
    }
   ],
   "source": [
    "SymTridiagonal(diag(Asym), diag(Asym, 1))"
   ]
  },
  {
   "cell_type": "markdown",
   "id": "8d604f26-7786-4a0a-b0fb-dbb7cc5a0970",
   "metadata": {},
   "source": [
    "#### Symmetric eigenproblem"
   ]
  },
  {
   "cell_type": "code",
   "execution_count": 117,
   "id": "612ff4b7-ae14-4f06-8620-b04e200b8a0b",
   "metadata": {
    "tags": []
   },
   "outputs": [
    {
     "name": "stdout",
     "output_type": "stream",
     "text": [
      "Is Asym1 symmetric? true\n",
      "Is Asym2 symmetric? false\n"
     ]
    }
   ],
   "source": [
    "n = 1000\n",
    "A = randn(n, n);\n",
    "Asym1 = A + A';\n",
    "Asym2 = copy(Asym1); Asym2[1, 2] += 5eps();\n",
    "println(\"Is Asym1 symmetric? \", issymmetric(Asym1));\n",
    "println(\"Is Asym2 symmetric? \", issymmetric(Asym2));"
   ]
  },
  {
   "cell_type": "code",
   "execution_count": 118,
   "id": "6f4c4a44-747b-46eb-b453-b86859ae1117",
   "metadata": {
    "tags": []
   },
   "outputs": [
    {
     "name": "stdout",
     "output_type": "stream",
     "text": [
      "  0.517332 seconds (152.14 k allocations: 15.265 MiB, 51.32% compilation time)\n"
     ]
    }
   ],
   "source": [
    "@time eigvals(Asym1);"
   ]
  },
  {
   "cell_type": "code",
   "execution_count": 119,
   "id": "cb16fa77-ae46-4aed-9388-255ea3cadc57",
   "metadata": {
    "tags": []
   },
   "outputs": [
    {
     "name": "stdout",
     "output_type": "stream",
     "text": [
      "  1.148480 seconds (13 allocations: 7.920 MiB)\n"
     ]
    }
   ],
   "source": [
    "@time eigvals(Asym2);"
   ]
  },
  {
   "cell_type": "code",
   "execution_count": 121,
   "id": "f03e4071-b548-492b-be59-5e78c39cee5f",
   "metadata": {
    "tags": []
   },
   "outputs": [
    {
     "name": "stdout",
     "output_type": "stream",
     "text": [
      "  0.330613 seconds (12 allocations: 7.989 MiB)\n"
     ]
    }
   ],
   "source": [
    "@time eigvals(Symmetric(Asym2));"
   ]
  },
  {
   "cell_type": "markdown",
   "id": "60b02d76-7669-47a1-b195-2a3026e5cf61",
   "metadata": {},
   "source": [
    "### Generic Linear Algebra"
   ]
  },
  {
   "cell_type": "code",
   "execution_count": 122,
   "id": "06a37656-66dc-4212-a76d-67b322892976",
   "metadata": {
    "tags": []
   },
   "outputs": [
    {
     "data": {
      "text/plain": [
       "3×3 Matrix{Int64}:\n",
       " 140   96  116\n",
       " 170  108  118\n",
       " 130   96  106"
      ]
     },
     "execution_count": 122,
     "metadata": {},
     "output_type": "execute_result"
    }
   ],
   "source": [
    "rand(1:10, 3, 3) * rand(1:10, 3, 3) "
   ]
  },
  {
   "cell_type": "markdown",
   "id": "b63a607e-7123-455f-a88c-f14ab0e214f9",
   "metadata": {},
   "source": [
    "#### Example 1: Rational linear system of equations"
   ]
  },
  {
   "cell_type": "code",
   "execution_count": 123,
   "id": "caf8bcec-fdf7-43c3-b97d-ef65b704dee8",
   "metadata": {
    "tags": []
   },
   "outputs": [
    {
     "data": {
      "text/plain": [
       "3×3 Matrix{Rational{BigInt}}:\n",
       " 3//5   9//10  3//10\n",
       " 7//10  4//5   4//5\n",
       " 4//5   7//10  1//1"
      ]
     },
     "execution_count": 123,
     "metadata": {},
     "output_type": "execute_result"
    }
   ],
   "source": [
    "Ar = convert(Matrix{Rational{BigInt}}, rand(1:10, 3, 3)) / 10"
   ]
  },
  {
   "cell_type": "code",
   "execution_count": 124,
   "id": "86da7940-af16-4c40-8684-066874e48a69",
   "metadata": {
    "tags": []
   },
   "outputs": [
    {
     "data": {
      "text/plain": [
       "3-element Vector{Rational{BigInt}}:\n",
       "  9//5\n",
       " 23//10\n",
       "  5//2"
      ]
     },
     "execution_count": 124,
     "metadata": {},
     "output_type": "execute_result"
    }
   ],
   "source": [
    "x = ones(Int, 3)\n",
    "b = Ar * x"
   ]
  },
  {
   "cell_type": "code",
   "execution_count": 125,
   "id": "7e8503bf-36fa-447b-be89-f54a903f9c51",
   "metadata": {
    "tags": []
   },
   "outputs": [
    {
     "data": {
      "text/plain": [
       "3-element Vector{Rational{BigInt}}:\n",
       " 1//1\n",
       " 1//1\n",
       " 1//1"
      ]
     },
     "execution_count": 125,
     "metadata": {},
     "output_type": "execute_result"
    }
   ],
   "source": [
    "Ar \\ b"
   ]
  },
  {
   "cell_type": "code",
   "execution_count": 126,
   "id": "4a634d2b-3c04-4811-aaf9-546aa53ec4aa",
   "metadata": {
    "tags": []
   },
   "outputs": [
    {
     "data": {
      "text/plain": [
       "LU{Rational{BigInt}, Matrix{Rational{BigInt}}, Vector{Int64}}\n",
       "L factor:\n",
       "3×3 Matrix{Rational{BigInt}}:\n",
       " 1//1  0//1  0//1\n",
       " 3//4  1//1  0//1\n",
       " 7//8  1//2  1//1\n",
       "U factor:\n",
       "3×3 Matrix{Rational{BigInt}}:\n",
       " 4//5  7//10   1//1\n",
       " 0//1  3//8   -9//20\n",
       " 0//1  0//1    3//20"
      ]
     },
     "execution_count": 126,
     "metadata": {},
     "output_type": "execute_result"
    }
   ],
   "source": [
    "lu(Ar)"
   ]
  },
  {
   "cell_type": "markdown",
   "id": "9cbfdd20-8d86-4b79-bee1-80ef3ca1ae40",
   "metadata": {},
   "source": [
    "#### Example 2: Rational Matrix from eigenstructure"
   ]
  },
  {
   "cell_type": "code",
   "execution_count": 127,
   "id": "e6a11e18-125c-4a28-9459-99e0dce31356",
   "metadata": {
    "tags": []
   },
   "outputs": [
    {
     "data": {
      "text/plain": [
       "3×3 Matrix{Rational{Int64}}:\n",
       " 1//1  -1//2  -1//4\n",
       " 0//1   1//2  -1//4\n",
       " 0//1   0//1   1//4"
      ]
     },
     "execution_count": 127,
     "metadata": {},
     "output_type": "execute_result"
    }
   ],
   "source": [
    "λ1, λ2, λ3 = 1//1, 1//2, 1//4\n",
    "v1, v2, v3 = [1, 0, 0], [1, 1, 0], [1, 1, 1]\n",
    "V, Λ = [v1 v2 v3], Diagonal([λ1, λ2, λ3])\n",
    "A = V * Λ/V"
   ]
  },
  {
   "cell_type": "code",
   "execution_count": null,
   "id": "95b00f08-931e-4c1c-8c9c-6733fd163220",
   "metadata": {},
   "outputs": [],
   "source": []
  }
 ],
 "metadata": {
  "kernelspec": {
   "display_name": "Julia 1.8.5",
   "language": "julia",
   "name": "julia-1.8"
  },
  "language_info": {
   "file_extension": ".jl",
   "mimetype": "application/julia",
   "name": "julia",
   "version": "1.8.5"
  }
 },
 "nbformat": 4,
 "nbformat_minor": 5
}
