{
 "cells": [
  {
   "cell_type": "markdown",
   "id": "3bf918bc-0569-4ab8-ad93-a8e97ec2b082",
   "metadata": {},
   "source": [
    "## How to print\n",
    "In Julia, we usually use `println()` to print"
   ]
  },
  {
   "cell_type": "code",
   "execution_count": 2,
   "id": "70b3a55a-c093-49ca-9c56-3e28f65f5dbc",
   "metadata": {
    "tags": []
   },
   "outputs": [
    {
     "name": "stdout",
     "output_type": "stream",
     "text": [
      "I'm excited to learn Julia!\n"
     ]
    }
   ],
   "source": [
    "println(\"I'm excited to learn Julia!\")"
   ]
  },
  {
   "cell_type": "markdown",
   "id": "9538d5ef-d1c5-4cef-8712-e07016f7f631",
   "metadata": {},
   "source": [
    "## How to assign variables"
   ]
  },
  {
   "cell_type": "code",
   "execution_count": 3,
   "id": "35311f33-3eba-4126-b984-bf2263effad8",
   "metadata": {
    "tags": []
   },
   "outputs": [
    {
     "data": {
      "text/plain": [
       "Int64"
      ]
     },
     "execution_count": 3,
     "metadata": {},
     "output_type": "execute_result"
    }
   ],
   "source": [
    "my_answer = 42\n",
    "typeof(my_answer)"
   ]
  },
  {
   "cell_type": "code",
   "execution_count": 4,
   "id": "03c8e25a-fa15-4924-8bac-534abbe6ffe3",
   "metadata": {
    "tags": []
   },
   "outputs": [
    {
     "data": {
      "text/plain": [
       "Float64"
      ]
     },
     "execution_count": 4,
     "metadata": {},
     "output_type": "execute_result"
    }
   ],
   "source": [
    "my_pi = 3.14159\n",
    "typeof(my_pi)"
   ]
  },
  {
   "cell_type": "code",
   "execution_count": 5,
   "id": "18a2cb79-a91f-4aa7-b79e-6f9258bbdee8",
   "metadata": {
    "tags": []
   },
   "outputs": [
    {
     "data": {
      "text/plain": [
       "String"
      ]
     },
     "execution_count": 5,
     "metadata": {},
     "output_type": "execute_result"
    }
   ],
   "source": [
    "my_name = \"Hari\"\n",
    "typeof(my_name)"
   ]
  },
  {
   "cell_type": "code",
   "execution_count": 6,
   "id": "301b5bb9-8b76-4b66-8276-894a4b7c0369",
   "metadata": {
    "tags": []
   },
   "outputs": [
    {
     "data": {
      "text/plain": [
       "\"Hari\""
      ]
     },
     "execution_count": 6,
     "metadata": {},
     "output_type": "execute_result"
    }
   ],
   "source": [
    "my_answer = my_name"
   ]
  },
  {
   "cell_type": "code",
   "execution_count": 7,
   "id": "6207bb09-0f75-4ff3-9b3d-629e00eb9fb1",
   "metadata": {
    "tags": []
   },
   "outputs": [
    {
     "data": {
      "text/plain": [
       "String"
      ]
     },
     "execution_count": 7,
     "metadata": {},
     "output_type": "execute_result"
    }
   ],
   "source": [
    "typeof(my_answer)"
   ]
  },
  {
   "cell_type": "markdown",
   "id": "b26be84e-e7c7-4939-810e-43d35927f395",
   "metadata": {},
   "source": [
    "## How to comment"
   ]
  },
  {
   "cell_type": "code",
   "execution_count": 9,
   "id": "d5e8fd0a-6965-489d-994d-589f30ee9537",
   "metadata": {
    "tags": []
   },
   "outputs": [],
   "source": [
    "# Single-line comment"
   ]
  },
  {
   "cell_type": "code",
   "execution_count": 10,
   "id": "b4d063ab-e3df-4a8c-9e17-bc4a86518261",
   "metadata": {
    "tags": []
   },
   "outputs": [],
   "source": [
    "#=\n",
    "\n",
    "For multi-line comments\n",
    "\n",
    "=#"
   ]
  },
  {
   "cell_type": "markdown",
   "id": "7763c3f1-dc1f-48ad-8ba5-cf7934e5df9e",
   "metadata": {},
   "source": [
    "## Syntax for basic math"
   ]
  },
  {
   "cell_type": "code",
   "execution_count": 11,
   "id": "e920e195-8cca-454c-8e63-ee28c1607cf4",
   "metadata": {
    "tags": []
   },
   "outputs": [
    {
     "data": {
      "text/plain": [
       "10"
      ]
     },
     "execution_count": 11,
     "metadata": {},
     "output_type": "execute_result"
    }
   ],
   "source": [
    "sum = 3 + 7"
   ]
  },
  {
   "cell_type": "code",
   "execution_count": 12,
   "id": "ef4a2b8e-1b7f-4e30-b765-4fbaf6eee53b",
   "metadata": {
    "tags": []
   },
   "outputs": [
    {
     "data": {
      "text/plain": [
       "7"
      ]
     },
     "execution_count": 12,
     "metadata": {},
     "output_type": "execute_result"
    }
   ],
   "source": [
    "difference = 10 - 3"
   ]
  },
  {
   "cell_type": "code",
   "execution_count": 13,
   "id": "65fd4c60-fbe0-47ca-997b-c6e705ad78ee",
   "metadata": {
    "tags": []
   },
   "outputs": [
    {
     "data": {
      "text/plain": [
       "100"
      ]
     },
     "execution_count": 13,
     "metadata": {},
     "output_type": "execute_result"
    }
   ],
   "source": [
    "product = 20 * 5"
   ]
  },
  {
   "cell_type": "code",
   "execution_count": 14,
   "id": "6e90b1ec-5b92-4cb4-8f60-48995e15c751",
   "metadata": {
    "tags": []
   },
   "outputs": [
    {
     "data": {
      "text/plain": [
       "10.0"
      ]
     },
     "execution_count": 14,
     "metadata": {},
     "output_type": "execute_result"
    }
   ],
   "source": [
    "quotient = 100 / 10"
   ]
  },
  {
   "cell_type": "code",
   "execution_count": 15,
   "id": "d9c11b85-ee8c-4bbf-88d1-622141483638",
   "metadata": {
    "tags": []
   },
   "outputs": [
    {
     "data": {
      "text/plain": [
       "100"
      ]
     },
     "execution_count": 15,
     "metadata": {},
     "output_type": "execute_result"
    }
   ],
   "source": [
    "power = 10 ^ 2"
   ]
  },
  {
   "cell_type": "code",
   "execution_count": 17,
   "id": "0e5d1e6f-31bb-4c7d-b793-30d7b1c33b69",
   "metadata": {
    "tags": []
   },
   "outputs": [
    {
     "data": {
      "text/plain": [
       "1"
      ]
     },
     "execution_count": 17,
     "metadata": {},
     "output_type": "execute_result"
    }
   ],
   "source": [
    "modulus = 101 % 2"
   ]
  }
 ],
 "metadata": {
  "kernelspec": {
   "display_name": "Julia 1.8.5",
   "language": "julia",
   "name": "julia-1.8"
  },
  "language_info": {
   "file_extension": ".jl",
   "mimetype": "application/julia",
   "name": "julia",
   "version": "1.8.5"
  }
 },
 "nbformat": 4,
 "nbformat_minor": 5
}
