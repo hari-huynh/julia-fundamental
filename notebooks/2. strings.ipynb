{
 "cells": [
  {
   "cell_type": "markdown",
   "id": "d2dc04ac-678c-45bf-9664-c9259185851a",
   "metadata": {},
   "source": [
    "# Strings\n",
    "\n",
    "Topics:\n",
    "1. How to get a string\n",
    "2. String interpolation\n",
    "3. String concatenation"
   ]
  },
  {
   "cell_type": "markdown",
   "id": "2fa37e0b-e9e0-4df2-a064-72639dc6aa2e",
   "metadata": {},
   "source": [
    "## How to get a string"
   ]
  },
  {
   "cell_type": "code",
   "execution_count": 1,
   "id": "060cdb32-73fc-4b74-9915-d6a2247cc2b2",
   "metadata": {
    "tags": []
   },
   "outputs": [
    {
     "data": {
      "text/plain": [
       "\"I am a string.\""
      ]
     },
     "execution_count": 1,
     "metadata": {},
     "output_type": "execute_result"
    }
   ],
   "source": [
    "s1 = \"I am a string.\""
   ]
  },
  {
   "cell_type": "code",
   "execution_count": 2,
   "id": "b798f90b-820a-4eb9-ad3d-4e6b6035c6e1",
   "metadata": {
    "tags": []
   },
   "outputs": [
    {
     "data": {
      "text/plain": [
       "\"I am also a string.\""
      ]
     },
     "execution_count": 2,
     "metadata": {},
     "output_type": "execute_result"
    }
   ],
   "source": [
    "s2 = \"\"\"I am also a string.\"\"\""
   ]
  },
  {
   "cell_type": "code",
   "execution_count": 3,
   "id": "4fab46ae-2608-428f-b914-a5dbaca01491",
   "metadata": {
    "tags": []
   },
   "outputs": [
    {
     "ename": "LoadError",
     "evalue": "syntax: cannot juxtapose string literal",
     "output_type": "error",
     "traceback": [
      "syntax: cannot juxtapose string literal",
      "",
      "Stacktrace:",
      " [1] top-level scope",
      "   @ In[3]:1"
     ]
    }
   ],
   "source": [
    "\"Here, we get an \"error\" because it's ambiguos\""
   ]
  },
  {
   "cell_type": "code",
   "execution_count": 4,
   "id": "cb7ab56f-36ba-4e5c-91cf-5dcddd7cee0c",
   "metadata": {
    "tags": []
   },
   "outputs": [
    {
     "data": {
      "text/plain": [
       "\"Look, no \\\"errors\\\" !!!\""
      ]
     },
     "execution_count": 4,
     "metadata": {},
     "output_type": "execute_result"
    }
   ],
   "source": [
    "\"\"\"Look, no \"errors\" !!!\"\"\""
   ]
  },
  {
   "cell_type": "markdown",
   "id": "3452e714-a292-4d1d-b3e0-0e7afb49813f",
   "metadata": {},
   "source": [
    "Note that `''` define a character, but NOT a string!"
   ]
  },
  {
   "cell_type": "code",
   "execution_count": 5,
   "id": "a8a80ed5-6677-457b-9816-8112c2bc50d4",
   "metadata": {
    "tags": []
   },
   "outputs": [
    {
     "data": {
      "text/plain": [
       "Char"
      ]
     },
     "execution_count": 5,
     "metadata": {},
     "output_type": "execute_result"
    }
   ],
   "source": [
    "typeof('a')"
   ]
  },
  {
   "cell_type": "code",
   "execution_count": 6,
   "id": "a5cac0af-25fb-4076-885b-c8235daab289",
   "metadata": {
    "tags": []
   },
   "outputs": [
    {
     "ename": "LoadError",
     "evalue": "syntax: character literal contains multiple characters",
     "output_type": "error",
     "traceback": [
      "syntax: character literal contains multiple characters",
      "",
      "Stacktrace:",
      " [1] top-level scope",
      "   @ In[6]:1"
     ]
    }
   ],
   "source": [
    "'We will get an error here'"
   ]
  },
  {
   "cell_type": "markdown",
   "id": "87519aac-3259-4773-984e-b299b32f0453",
   "metadata": {},
   "source": [
    "## String interpolation"
   ]
  },
  {
   "cell_type": "code",
   "execution_count": 8,
   "id": "410ccb6a-65c0-427b-b000-75c8ca3b2616",
   "metadata": {
    "tags": []
   },
   "outputs": [
    {
     "name": "stdout",
     "output_type": "stream",
     "text": [
      "Helo, my name is Jane\n",
      "I have 10 fingers and 10 toes. That is 20 digits in all!!\n"
     ]
    }
   ],
   "source": [
    "name = \"Jane\"\n",
    "num_fingers = 10\n",
    "num_toes = 10\n",
    "\n",
    "println(\"Helo, my name is $name\")\n",
    "println(\"I have $num_fingers fingers and $num_toes toes. That is $(num_fingers + num_toes) digits in all!!\") "
   ]
  },
  {
   "cell_type": "markdown",
   "id": "9c284be2-d072-4e59-910d-8b69e6adfbec",
   "metadata": {},
   "source": [
    "## String concatenation"
   ]
  },
  {
   "cell_type": "code",
   "execution_count": 9,
   "id": "efbf9d2e-961a-46a7-9b67-a2b28c0cf3cc",
   "metadata": {
    "tags": []
   },
   "outputs": [
    {
     "data": {
      "text/plain": [
       "\"How many cats are too many cats?\""
      ]
     },
     "execution_count": 9,
     "metadata": {},
     "output_type": "execute_result"
    }
   ],
   "source": [
    "string(\"How many cats \", \"are too many cats?\")"
   ]
  },
  {
   "cell_type": "code",
   "execution_count": 10,
   "id": "9e76f699-cb1e-41bc-b2b9-745b079d0e5a",
   "metadata": {
    "tags": []
   },
   "outputs": [
    {
     "data": {
      "text/plain": [
       "\"I don't know, but 10 are too few.\""
      ]
     },
     "execution_count": 10,
     "metadata": {},
     "output_type": "execute_result"
    }
   ],
   "source": [
    "string(\"I don't know, but \", 10, \" are too few.\")"
   ]
  },
  {
   "cell_type": "code",
   "execution_count": 12,
   "id": "cc868f1d-a628-4ed4-b842-8f1d33abc0a2",
   "metadata": {
    "tags": []
   },
   "outputs": [],
   "source": [
    "s3 = \"How many cats \";\n",
    "s4 = \"are too many cats?\";"
   ]
  },
  {
   "cell_type": "code",
   "execution_count": 13,
   "id": "562b0a22-cb3e-4bcc-99b9-77990c29445a",
   "metadata": {
    "tags": []
   },
   "outputs": [
    {
     "data": {
      "text/plain": [
       "\"How many cats are too many cats?\""
      ]
     },
     "execution_count": 13,
     "metadata": {},
     "output_type": "execute_result"
    }
   ],
   "source": [
    "s3 * s4"
   ]
  },
  {
   "cell_type": "code",
   "execution_count": 14,
   "id": "c406e793-ce89-4863-84c6-cf17dd10bc66",
   "metadata": {
    "tags": []
   },
   "outputs": [
    {
     "data": {
      "text/plain": [
       "\"How many cats are too many cats?\""
      ]
     },
     "execution_count": 14,
     "metadata": {},
     "output_type": "execute_result"
    }
   ],
   "source": [
    "\"$s3$s4\""
   ]
  },
  {
   "cell_type": "code",
   "execution_count": null,
   "id": "feb2af60-238f-4114-b3b4-a79e36608d71",
   "metadata": {},
   "outputs": [],
   "source": []
  }
 ],
 "metadata": {
  "kernelspec": {
   "display_name": "Julia 1.8.5",
   "language": "julia",
   "name": "julia-1.8"
  },
  "language_info": {
   "file_extension": ".jl",
   "mimetype": "application/julia",
   "name": "julia",
   "version": "1.8.5"
  }
 },
 "nbformat": 4,
 "nbformat_minor": 5
}
