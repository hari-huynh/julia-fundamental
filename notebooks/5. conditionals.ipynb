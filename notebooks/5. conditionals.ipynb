{
 "cells": [
  {
   "cell_type": "markdown",
   "id": "2e101cc7-6acb-4f76-93ae-e2d55ab29a7d",
   "metadata": {},
   "source": [
    "# Conditionals"
   ]
  },
  {
   "cell_type": "markdown",
   "id": "73afa2cd-0017-4df7-80e4-bbc574b79516",
   "metadata": {},
   "source": [
    "```\n",
    "if *condition 1*\n",
    "    *option 1*\n",
    "elseif *condition 2*\n",
    "    *option 2*\n",
    "else\n",
    "    *option 3*\n",
    "end\n",
    "```"
   ]
  },
  {
   "cell_type": "code",
   "execution_count": 7,
   "id": "d5bb628f-0d58-4bb0-8eaf-a7088d6873e2",
   "metadata": {
    "tags": []
   },
   "outputs": [
    {
     "name": "stdout",
     "output_type": "stream",
     "text": [
      "9 is smaller than 3\n"
     ]
    }
   ],
   "source": [
    "x = 3\n",
    "y = 9\n",
    "\n",
    "if x > y\n",
    "    println(\"$x is larger than $y\")\n",
    "elseif y > x\n",
    "    println(\"$y is smaller than $x\")\n",
    "else\n",
    "    println(\"$x and $y are equal!\")\n",
    "end\n",
    "    "
   ]
  },
  {
   "cell_type": "markdown",
   "id": "0ede4263-af2c-43cd-a2f9-d1363248392c",
   "metadata": {},
   "source": [
    "Let's say we wart to return the larger of the two numbers"
   ]
  },
  {
   "cell_type": "code",
   "execution_count": 2,
   "id": "ad4a724c-90de-4a21-ba74-1d18ebebbea8",
   "metadata": {
    "tags": []
   },
   "outputs": [
    {
     "data": {
      "text/plain": [
       "9"
      ]
     },
     "execution_count": 2,
     "metadata": {},
     "output_type": "execute_result"
    }
   ],
   "source": [
    "if x > y\n",
    "    x\n",
    "else\n",
    "    y\n",
    "end"
   ]
  },
  {
   "cell_type": "markdown",
   "id": "5552ca44-87e7-4ea4-a644-9a9ac28be113",
   "metadata": {},
   "source": [
    "Tenary operator\n",
    "`a ? b : c`"
   ]
  },
  {
   "cell_type": "code",
   "execution_count": 4,
   "id": "86e4381e-4e8a-4523-95a8-7bd1aefb4fdf",
   "metadata": {
    "tags": []
   },
   "outputs": [
    {
     "data": {
      "text/plain": [
       "9"
      ]
     },
     "execution_count": 4,
     "metadata": {},
     "output_type": "execute_result"
    }
   ],
   "source": [
    "(x > y) ? x : y"
   ]
  },
  {
   "cell_type": "code",
   "execution_count": 5,
   "id": "74c10457-72ff-46f2-a560-9f7a3ab74f15",
   "metadata": {
    "tags": []
   },
   "outputs": [
    {
     "data": {
      "text/plain": [
       "false"
      ]
     },
     "execution_count": 5,
     "metadata": {},
     "output_type": "execute_result"
    }
   ],
   "source": [
    "(x > y) && println(\"$x is larger than $y\")"
   ]
  },
  {
   "cell_type": "code",
   "execution_count": 8,
   "id": "aedaaa7a-1d2c-490b-ba0f-8a4ded155b70",
   "metadata": {
    "tags": []
   },
   "outputs": [
    {
     "name": "stdout",
     "output_type": "stream",
     "text": [
      "3 is smaller than 9\n"
     ]
    }
   ],
   "source": [
    "(x < y) && println(\"$x is smaller than $y\")"
   ]
  },
  {
   "cell_type": "code",
   "execution_count": null,
   "id": "50c94b18-6f95-4705-bad1-51b1d5faa65a",
   "metadata": {},
   "outputs": [],
   "source": []
  }
 ],
 "metadata": {
  "kernelspec": {
   "display_name": "Julia 1.8.5",
   "language": "julia",
   "name": "julia-1.8"
  },
  "language_info": {
   "file_extension": ".jl",
   "mimetype": "application/julia",
   "name": "julia",
   "version": "1.8.5"
  }
 },
 "nbformat": 4,
 "nbformat_minor": 5
}
