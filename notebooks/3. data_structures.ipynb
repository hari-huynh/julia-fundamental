{
 "cells": [
  {
   "cell_type": "markdown",
   "id": "b146cd56-e2eb-49b3-af0d-80e62dca9fdf",
   "metadata": {},
   "source": [
    "## Data Structures"
   ]
  },
  {
   "cell_type": "markdown",
   "id": "9cf4d613-467f-4e78-ac4e-6a79746c15c4",
   "metadata": {},
   "source": [
    "Once we start working with many pieces of data at once, it will be convenient for us to store data in structures like arrays or dictionaries (rather than just relying on variables).\n",
    "\n",
    "Types of data structures covered:\n",
    "1. Dictionaries\n",
    "2. Tuples\n",
    "3. Arrays\n",
    "\n",
    "As an overview, tuples and arrays are both ordered sequences of elements (so we can index into them). Dictionaries and arrays are both mutable."
   ]
  },
  {
   "cell_type": "markdown",
   "id": "b17479ba-c6f8-434d-adc3-ebd24c5cbdbe",
   "metadata": {},
   "source": [
    "## Dictionaries"
   ]
  },
  {
   "cell_type": "markdown",
   "id": "09094566-2c4a-4845-bd81-b5fd4385b239",
   "metadata": {},
   "source": [
    "If we have sets of data related to one another, we may choose to store that data in a dictionary. A good example is contacts list, where we associate names with phone numbers."
   ]
  },
  {
   "cell_type": "code",
   "execution_count": 2,
   "id": "93517e03-c108-4330-84f9-b9b71cb71d2c",
   "metadata": {
    "tags": []
   },
   "outputs": [
    {
     "data": {
      "text/plain": [
       "Dict{String, String} with 2 entries:\n",
       "  \"Jenny\"        => \"867-5309\"\n",
       "  \"Ghostbusters\" => \"555-2368\""
      ]
     },
     "execution_count": 2,
     "metadata": {},
     "output_type": "execute_result"
    }
   ],
   "source": [
    "myphonebook = Dict(\"Jenny\" => \"867-5309\", \"Ghostbusters\" => \"555-2368\")"
   ]
  },
  {
   "cell_type": "code",
   "execution_count": 3,
   "id": "fe411e43-0eb0-45af-a638-9cb9786c7091",
   "metadata": {
    "tags": []
   },
   "outputs": [
    {
     "data": {
      "text/plain": [
       "\"555-FILK\""
      ]
     },
     "execution_count": 3,
     "metadata": {},
     "output_type": "execute_result"
    }
   ],
   "source": [
    "myphonebook[\"Kramer\"] = \"555-FILK\""
   ]
  },
  {
   "cell_type": "code",
   "execution_count": 4,
   "id": "1413004c-d2bb-4203-b029-55ce6663ff01",
   "metadata": {
    "tags": []
   },
   "outputs": [
    {
     "data": {
      "text/plain": [
       "Dict{String, String} with 3 entries:\n",
       "  \"Jenny\"        => \"867-5309\"\n",
       "  \"Kramer\"       => \"555-FILK\"\n",
       "  \"Ghostbusters\" => \"555-2368\""
      ]
     },
     "execution_count": 4,
     "metadata": {},
     "output_type": "execute_result"
    }
   ],
   "source": [
    "myphonebook"
   ]
  },
  {
   "cell_type": "markdown",
   "id": "498b292e-9587-4a6e-bd43-1eeab2ac7a73",
   "metadata": {},
   "source": [
    "We can grab Kramer's number (a value) using the associated key"
   ]
  },
  {
   "cell_type": "code",
   "execution_count": 5,
   "id": "5084d5a1-55fc-4a1f-8591-65dd4ee68478",
   "metadata": {
    "tags": []
   },
   "outputs": [
    {
     "data": {
      "text/plain": [
       "\"555-FILK\""
      ]
     },
     "execution_count": 5,
     "metadata": {},
     "output_type": "execute_result"
    }
   ],
   "source": [
    "myphonebook[\"Kramer\"]"
   ]
  },
  {
   "cell_type": "markdown",
   "id": "28d743a6-37a7-45ed-a641-203e85759db4",
   "metadata": {},
   "source": [
    "We can also get Kramer's number - and simultaneously delete him from our contact list - by using `pop!` "
   ]
  },
  {
   "cell_type": "code",
   "execution_count": 6,
   "id": "c3e68b80-6144-413a-92e8-3269d4075030",
   "metadata": {
    "tags": []
   },
   "outputs": [
    {
     "data": {
      "text/plain": [
       "\"555-FILK\""
      ]
     },
     "execution_count": 6,
     "metadata": {},
     "output_type": "execute_result"
    }
   ],
   "source": [
    "pop!(myphonebook, \"Kramer\")"
   ]
  },
  {
   "cell_type": "code",
   "execution_count": 7,
   "id": "89aaefd5-1f05-412c-813f-f4d6782ce903",
   "metadata": {
    "tags": []
   },
   "outputs": [
    {
     "data": {
      "text/plain": [
       "Dict{String, String} with 2 entries:\n",
       "  \"Jenny\"        => \"867-5309\"\n",
       "  \"Ghostbusters\" => \"555-2368\""
      ]
     },
     "execution_count": 7,
     "metadata": {},
     "output_type": "execute_result"
    }
   ],
   "source": [
    "myphonebook"
   ]
  },
  {
   "cell_type": "markdown",
   "id": "b5fd97ea-aad1-4e1b-91d1-ba665cc71034",
   "metadata": {},
   "source": [
    "Unlike tuples and arrays, dictionaries are not ordered. So we can't index into them."
   ]
  },
  {
   "cell_type": "code",
   "execution_count": 8,
   "id": "e048c0dd-5037-4e5a-becc-4e537bc3bb4e",
   "metadata": {
    "tags": []
   },
   "outputs": [
    {
     "ename": "LoadError",
     "evalue": "KeyError: key 1 not found",
     "output_type": "error",
     "traceback": [
      "KeyError: key 1 not found",
      "",
      "Stacktrace:",
      " [1] getindex(h::Dict{String, String}, key::Int64)",
      "   @ Base .\\dict.jl:498",
      " [2] top-level scope",
      "   @ In[8]:1"
     ]
    }
   ],
   "source": [
    "myphonebook[1]"
   ]
  },
  {
   "cell_type": "markdown",
   "id": "f618b847-3d64-4700-8c26-d645bbc5afb9",
   "metadata": {},
   "source": [
    "## Tuples"
   ]
  },
  {
   "cell_type": "code",
   "execution_count": 9,
   "id": "f271ad47-eb81-473a-867d-7d634095affa",
   "metadata": {
    "tags": []
   },
   "outputs": [
    {
     "data": {
      "text/plain": [
       "(\"penguins\", \"cats\", \"sugargliders\")"
      ]
     },
     "execution_count": 9,
     "metadata": {},
     "output_type": "execute_result"
    }
   ],
   "source": [
    "myfavoriteanimals = (\"penguins\", \"cats\", \"sugargliders\")"
   ]
  },
  {
   "cell_type": "code",
   "execution_count": 10,
   "id": "d8c8afb6-124e-40f8-ad1b-4bf91339b38e",
   "metadata": {
    "tags": []
   },
   "outputs": [
    {
     "data": {
      "text/plain": [
       "\"penguins\""
      ]
     },
     "execution_count": 10,
     "metadata": {},
     "output_type": "execute_result"
    }
   ],
   "source": [
    "myfavoriteanimals[1]"
   ]
  },
  {
   "cell_type": "markdown",
   "id": "f184d256-d4e0-459d-a2cc-e213ae8b7068",
   "metadata": {},
   "source": [
    "but since tuples are immutable, we can't update it."
   ]
  },
  {
   "cell_type": "code",
   "execution_count": 11,
   "id": "b7681a2d-8e5d-451f-991f-33472b565e47",
   "metadata": {
    "tags": []
   },
   "outputs": [
    {
     "ename": "LoadError",
     "evalue": "MethodError: no method matching setindex!(::Tuple{String, String, String}, ::String, ::Int64)",
     "output_type": "error",
     "traceback": [
      "MethodError: no method matching setindex!(::Tuple{String, String, String}, ::String, ::Int64)",
      "",
      "Stacktrace:",
      " [1] top-level scope",
      "   @ In[11]:1"
     ]
    }
   ],
   "source": [
    "myfavoriteanimals[1] = \"otters\""
   ]
  },
  {
   "cell_type": "markdown",
   "id": "791b62af-ef7c-4067-b82d-06b6a3ecaf49",
   "metadata": {},
   "source": [
    "## Vectors"
   ]
  },
  {
   "cell_type": "code",
   "execution_count": 12,
   "id": "ca4ed777-6aff-40b4-92b3-747f56687621",
   "metadata": {
    "tags": []
   },
   "outputs": [
    {
     "data": {
      "text/plain": [
       "5-element Vector{String}:\n",
       " \"Ted\"\n",
       " \"Robyn\"\n",
       " \"Barney\"\n",
       " \"Lily\"\n",
       " \"Marshall\""
      ]
     },
     "execution_count": 12,
     "metadata": {},
     "output_type": "execute_result"
    }
   ],
   "source": [
    "myfriends = [\"Ted\", \"Robyn\", \"Barney\", \"Lily\", \"Marshall\"]"
   ]
  },
  {
   "cell_type": "code",
   "execution_count": 14,
   "id": "e0724e04-ac7e-47c8-a546-4e4f69ec48e0",
   "metadata": {
    "tags": []
   },
   "outputs": [
    {
     "data": {
      "text/plain": [
       "7-element Vector{Int64}:\n",
       "  1\n",
       "  1\n",
       "  2\n",
       "  3\n",
       "  5\n",
       "  8\n",
       " 13"
      ]
     },
     "execution_count": 14,
     "metadata": {},
     "output_type": "execute_result"
    }
   ],
   "source": [
    "fibonacci = [1, 1, 2, 3, 5, 8, 13]"
   ]
  },
  {
   "cell_type": "code",
   "execution_count": 15,
   "id": "b8fb75e0-a4fd-4dee-965e-87adcb47135b",
   "metadata": {
    "tags": []
   },
   "outputs": [
    {
     "data": {
      "text/plain": [
       "4-element Vector{Any}:\n",
       " 1\n",
       " 2.0\n",
       "  '3': ASCII/Unicode U+0033 (category Nd: Number, decimal digit)\n",
       "  \"four\""
      ]
     },
     "execution_count": 15,
     "metadata": {},
     "output_type": "execute_result"
    }
   ],
   "source": [
    "mix = [1, 2.0, '3', \"four\"]"
   ]
  },
  {
   "cell_type": "code",
   "execution_count": 16,
   "id": "4bbcb347-4b8f-4a29-8a92-166d2ae19e65",
   "metadata": {
    "tags": []
   },
   "outputs": [
    {
     "data": {
      "text/plain": [
       "\"Barney\""
      ]
     },
     "execution_count": 16,
     "metadata": {},
     "output_type": "execute_result"
    }
   ],
   "source": [
    "myfriends[3]"
   ]
  },
  {
   "cell_type": "code",
   "execution_count": 17,
   "id": "6e273c97-0fcd-43c7-b9b3-686feddf0a21",
   "metadata": {
    "tags": []
   },
   "outputs": [
    {
     "data": {
      "text/plain": [
       "5-element Vector{String}:\n",
       " \"Ted\"\n",
       " \"Robyn\"\n",
       " \"Baby Bop\"\n",
       " \"Lily\"\n",
       " \"Marshall\""
      ]
     },
     "execution_count": 17,
     "metadata": {},
     "output_type": "execute_result"
    }
   ],
   "source": [
    "myfriends[3] = \"Baby Bop\"\n",
    "myfriends"
   ]
  },
  {
   "cell_type": "code",
   "execution_count": 18,
   "id": "b6c7ea9f-4cd7-4451-b097-17004d0dca55",
   "metadata": {
    "tags": []
   },
   "outputs": [
    {
     "data": {
      "text/plain": [
       "8-element Vector{Int64}:\n",
       "  1\n",
       "  1\n",
       "  2\n",
       "  3\n",
       "  5\n",
       "  8\n",
       " 13\n",
       " 21"
      ]
     },
     "execution_count": 18,
     "metadata": {},
     "output_type": "execute_result"
    }
   ],
   "source": [
    "push!(fibonacci, 21)"
   ]
  },
  {
   "cell_type": "code",
   "execution_count": 19,
   "id": "48dcf1a9-9491-412a-b3d7-7e95e7d2c61f",
   "metadata": {
    "tags": []
   },
   "outputs": [
    {
     "data": {
      "text/plain": [
       "21"
      ]
     },
     "execution_count": 19,
     "metadata": {},
     "output_type": "execute_result"
    }
   ],
   "source": [
    "pop!(fibonacci)"
   ]
  },
  {
   "cell_type": "code",
   "execution_count": 20,
   "id": "d1f4119b-d651-4ce8-b595-b2eda2417dbf",
   "metadata": {
    "tags": []
   },
   "outputs": [
    {
     "data": {
      "text/plain": [
       "7-element Vector{Int64}:\n",
       "  1\n",
       "  1\n",
       "  2\n",
       "  3\n",
       "  5\n",
       "  8\n",
       " 13"
      ]
     },
     "execution_count": 20,
     "metadata": {},
     "output_type": "execute_result"
    }
   ],
   "source": [
    "fibonacci"
   ]
  },
  {
   "cell_type": "code",
   "execution_count": 21,
   "id": "13d5703f-60ba-443d-8f7b-5e7af7764e96",
   "metadata": {
    "tags": []
   },
   "outputs": [
    {
     "data": {
      "text/plain": [
       "2-element Vector{Vector{String}}:\n",
       " [\"koobideh\", \"chocolate\", \"eggs\"]\n",
       " [\"penguins\", \"cats\", \"sugargliders\"]"
      ]
     },
     "execution_count": 21,
     "metadata": {},
     "output_type": "execute_result"
    }
   ],
   "source": [
    "favorites = [[\"koobideh\",  \"chocolate\", \"eggs\"], [\"penguins\", \"cats\", \"sugargliders\"]]"
   ]
  },
  {
   "cell_type": "code",
   "execution_count": 22,
   "id": "1e754053-9357-4609-beb4-91defaf91d2d",
   "metadata": {
    "tags": []
   },
   "outputs": [
    {
     "data": {
      "text/plain": [
       "4×3 Matrix{Float64}:\n",
       " 0.0933988  0.651813    0.623033\n",
       " 0.743519   0.707992    0.156884\n",
       " 0.41252    0.00250174  0.776787\n",
       " 0.984578   0.402521    0.77827"
      ]
     },
     "execution_count": 22,
     "metadata": {},
     "output_type": "execute_result"
    }
   ],
   "source": [
    "rand(4, 3)"
   ]
  },
  {
   "cell_type": "code",
   "execution_count": 23,
   "id": "50ea63a3-9a27-4f62-b358-e300ac4c9848",
   "metadata": {
    "tags": []
   },
   "outputs": [
    {
     "data": {
      "text/plain": [
       "4×3×2 Array{Float64, 3}:\n",
       "[:, :, 1] =\n",
       " 0.0204924  0.415021  0.884845\n",
       " 0.168012   0.425129  0.549951\n",
       " 0.904631   0.685919  0.507641\n",
       " 0.474717   0.399448  0.371078\n",
       "\n",
       "[:, :, 2] =\n",
       " 0.26701    0.960904  0.0715566\n",
       " 0.0844115  0.960329  0.464757\n",
       " 0.309488   0.396458  0.0116587\n",
       " 0.86857    0.470098  0.403924"
      ]
     },
     "execution_count": 23,
     "metadata": {},
     "output_type": "execute_result"
    }
   ],
   "source": [
    "rand(4, 3, 2)"
   ]
  }
 ],
 "metadata": {
  "kernelspec": {
   "display_name": "Julia 1.8.5",
   "language": "julia",
   "name": "julia-1.8"
  },
  "language_info": {
   "file_extension": ".jl",
   "mimetype": "application/julia",
   "name": "julia",
   "version": "1.8.5"
  }
 },
 "nbformat": 4,
 "nbformat_minor": 5
}
