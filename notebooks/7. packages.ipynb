{
 "cells": [
  {
   "cell_type": "markdown",
   "id": "4fcda191-8f6f-4107-93c8-8cdadd891fa2",
   "metadata": {},
   "source": [
    "# Packages"
   ]
  },
  {
   "cell_type": "code",
   "execution_count": 1,
   "id": "25ffb480-c38b-4ffa-ab98-66654dd1503c",
   "metadata": {
    "tags": []
   },
   "outputs": [],
   "source": [
    "# Pkg.add(\"Example\") "
   ]
  },
  {
   "cell_type": "code",
   "execution_count": 5,
   "id": "783cd4bd-121d-4b8e-8f5e-e232150092d6",
   "metadata": {
    "tags": []
   },
   "outputs": [],
   "source": [
    "using Example"
   ]
  },
  {
   "cell_type": "code",
   "execution_count": 6,
   "id": "62783779-660c-4a01-809f-604550feca5b",
   "metadata": {
    "tags": []
   },
   "outputs": [
    {
     "data": {
      "text/plain": [
       "\"Hello, it's me. I was wondering if after all these years you'd like to meet.\""
      ]
     },
     "execution_count": 6,
     "metadata": {},
     "output_type": "execute_result"
    }
   ],
   "source": [
    "hello(\"it's me. I was wondering if after all these years you'd like to meet.\")"
   ]
  }
 ],
 "metadata": {
  "kernelspec": {
   "display_name": "Julia 1.8.5",
   "language": "julia",
   "name": "julia-1.8"
  },
  "language_info": {
   "file_extension": ".jl",
   "mimetype": "application/julia",
   "name": "julia",
   "version": "1.8.5"
  }
 },
 "nbformat": 4,
 "nbformat_minor": 5
}
